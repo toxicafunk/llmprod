{
 "cells": [
  {
   "cell_type": "markdown",
   "metadata": {
    "application/vnd.databricks.v1+cell": {
     "cellMetadata": {},
     "inputWidgets": {},
     "nuid": "6138976c-d78d-4cbb-956f-0d8e5995c43f",
     "showTitle": false,
     "title": ""
    }
   },
   "source": [
    "\n",
    "<div style=\"text-align: center; line-height: 0; padding-top: 9px;\">\n",
    "  <img src=\"https://databricks.com/wp-content/uploads/2018/03/db-academy-rgb-1200px.png\" alt=\"Databricks Learning\" style=\"width: 600px\">\n",
    "</div>"
   ]
  },
  {
   "cell_type": "markdown",
   "metadata": {
    "application/vnd.databricks.v1+cell": {
     "cellMetadata": {},
     "inputWidgets": {},
     "nuid": "491d58e6-020d-4835-b11d-0cb2a9212dbc",
     "showTitle": false,
     "title": ""
    }
   },
   "source": [
    "\n",
    "# LLMs and Society Lab\n",
    "\n",
    "### ![Dolly](https://files.training.databricks.com/images/llm/dolly_small.png) Learning Objectives\n",
    "1. Learn how to evaluate polarity towards certain demographic groups using `regard`\n",
    "    - We will first evaluate whether dancers are regarded differently from scientists\n",
    "    - You will then compute `regard` with other groups of your choice\n",
    "2. Test your language model by changing text using `sparknlp` "
   ]
  },
  {
   "cell_type": "code",
   "execution_count": 0,
   "metadata": {
    "application/vnd.databricks.v1+cell": {
     "cellMetadata": {},
     "inputWidgets": {},
     "nuid": "0781e9eb-4d40-455c-bcaf-4223ebb7bbfb",
     "showTitle": false,
     "title": ""
    }
   },
   "outputs": [],
   "source": [
    "%pip install nlptest==1.4.0"
   ]
  },
  {
   "cell_type": "markdown",
   "metadata": {
    "application/vnd.databricks.v1+cell": {
     "cellMetadata": {},
     "inputWidgets": {},
     "nuid": "f52efbd3-0f77-4366-8f17-58b739157c2b",
     "showTitle": false,
     "title": ""
    }
   },
   "source": [
    "\n",
    "## Classroom Setup"
   ]
  },
  {
   "cell_type": "code",
   "execution_count": 0,
   "metadata": {
    "application/vnd.databricks.v1+cell": {
     "cellMetadata": {},
     "inputWidgets": {},
     "nuid": "634f7b14-b24c-4d87-8724-dcb97b8d52d7",
     "showTitle": false,
     "title": ""
    }
   },
   "outputs": [],
   "source": [
    "%run ../Includes/Classroom-Setup"
   ]
  },
  {
   "cell_type": "markdown",
   "metadata": {
    "application/vnd.databricks.v1+cell": {
     "cellMetadata": {},
     "inputWidgets": {},
     "nuid": "c52a336c-9d54-486a-b571-883d38fe0145",
     "showTitle": false,
     "title": ""
    }
   },
   "source": [
    "## Evaluate Regard \n",
    "\n",
    "We will use the [BOLD dataset](https://huggingface.co/datasets/AlexaAI/bold), created by Alexa AI, that allows us to evaluate model fairness in English text generation. Specifically, we will use categories within this dataset to prompt the language model for text completion. Some example categories include:\n",
    "- gender \n",
    "- professions\n",
    "- religions\n",
    "\n",
    "Continuing from the demo, we will use the same `evaluate` library from Hugging Face, but leverage a separate module called `regard`. We evaluate model fairness from the angle of polarity or perception to see if one group is assigned a higher regard score than the other.  "
   ]
  },
  {
   "cell_type": "code",
   "execution_count": 0,
   "metadata": {
    "application/vnd.databricks.v1+cell": {
     "cellMetadata": {},
     "inputWidgets": {},
     "nuid": "3b2096ea-46e2-4940-ad40-0167fa51f7cc",
     "showTitle": false,
     "title": ""
    }
   },
   "outputs": [],
   "source": [
    "from datasets import load_dataset\n",
    "\n",
    "bold = load_dataset(\n",
    "    \"AlexaAI/bold\", split=\"train\", cache_dir=DA.paths.datasets\n",
    ")  # Note: We specify cache_dir to use pre-cached data."
   ]
  },
  {
   "cell_type": "markdown",
   "metadata": {
    "application/vnd.databricks.v1+cell": {
     "cellMetadata": {},
     "inputWidgets": {},
     "nuid": "52df112f-4fe4-4809-b2ac-2caa32efb828",
     "showTitle": false,
     "title": ""
    }
   },
   "source": [
    "In this exercise, we will examine whether people in the `dance_occupations` are regarded any differently than those in `scientific_occupations`."
   ]
  },
  {
   "cell_type": "code",
   "execution_count": 0,
   "metadata": {
    "application/vnd.databricks.v1+cell": {
     "cellMetadata": {},
     "inputWidgets": {},
     "nuid": "c8f1630f-2a28-4189-a511-b8e78942ca8c",
     "showTitle": false,
     "title": ""
    }
   },
   "outputs": [],
   "source": [
    "from random import sample\n",
    "\n",
    "def generate_samples(category_name: str, n: int) -> list:\n",
    "    \"\"\"\n",
    "    Given a category, returns `n` samples\n",
    "    \"\"\"\n",
    "    bold_samples = sample([p for p in bold if p[\"category\"] == category_name], n)\n",
    "    return bold_samples\n",
    "\n",
    "science_bold = generate_samples(\"scientific_occupations\", 10)\n",
    "dance_bold = generate_samples(\"dance_occupations\", 10)\n",
    "\n",
    "print(\"Science example: \", science_bold[0])\n",
    "print(\"-\" * 60)\n",
    "print(\"Dance example: \", dance_bold[0])"
   ]
  },
  {
   "cell_type": "markdown",
   "metadata": {
    "application/vnd.databricks.v1+cell": {
     "cellMetadata": {},
     "inputWidgets": {},
     "nuid": "1ef4cf1d-5369-4f43-8901-2d11586722ec",
     "showTitle": false,
     "title": ""
    }
   },
   "source": [
    "\n",
    "### Question 1\n",
    "Now, it's your turn to generate some samples. Run the following cell to get a complete list of categories covered by BOLD.\n",
    "\n",
    "If you need inspiration, try `American_actors` and `American_actresses`."
   ]
  },
  {
   "cell_type": "code",
   "execution_count": 0,
   "metadata": {
    "application/vnd.databricks.v1+cell": {
     "cellMetadata": {},
     "inputWidgets": {},
     "nuid": "42f49498-c362-4648-b337-290560e1c21c",
     "showTitle": false,
     "title": ""
    }
   },
   "outputs": [],
   "source": [
    "import numpy as np\n",
    "\n",
    "np.unique(bold[\"category\"])"
   ]
  },
  {
   "cell_type": "code",
   "execution_count": 0,
   "metadata": {
    "application/vnd.databricks.v1+cell": {
     "cellMetadata": {},
     "inputWidgets": {},
     "nuid": "1ac297d2-64fc-4390-ba69-3d11a8b26383",
     "showTitle": false,
     "title": ""
    }
   },
   "outputs": [],
   "source": [
    "# TODO\n",
    "\n",
    "# Generate samples from BOLD dataset\n",
    "group1_bold = generate_samples(\"<FILL_IN>\", 10)\n",
    "group2_bold = generate_samples(\"<FILL_IN>\", 10)"
   ]
  },
  {
   "cell_type": "code",
   "execution_count": 0,
   "metadata": {
    "application/vnd.databricks.v1+cell": {
     "cellMetadata": {},
     "inputWidgets": {},
     "nuid": "bfd8b2d1-0d88-4634-ab7e-17bc6aaf5266",
     "showTitle": false,
     "title": ""
    }
   },
   "outputs": [],
   "source": [
    "# Test your answer. DO NOT MODIFY THIS CELL.\n",
    "\n",
    "dbTestQuestion5_1(group1_bold, group2_bold)"
   ]
  },
  {
   "cell_type": "markdown",
   "metadata": {
    "application/vnd.databricks.v1+cell": {
     "cellMetadata": {},
     "inputWidgets": {},
     "nuid": "ba0c2c88-bc44-4ae1-a639-c20d86e3cd48",
     "showTitle": false,
     "title": ""
    }
   },
   "source": [
    "Now, let's get some prompts from each of the categories"
   ]
  },
  {
   "cell_type": "code",
   "execution_count": 0,
   "metadata": {
    "application/vnd.databricks.v1+cell": {
     "cellMetadata": {},
     "inputWidgets": {},
     "nuid": "2a16c42b-250d-46d6-9d85-ae289401e7e9",
     "showTitle": false,
     "title": ""
    }
   },
   "outputs": [],
   "source": [
    "science_prompts = [p[\"prompts\"][0] for p in science_bold]\n",
    "dance_prompts = [p[\"prompts\"][0] for p in dance_bold]\n",
    "print(\"Science prompt example: \", science_prompts[0])\n",
    "print(\"Dance prompt example: \", dance_prompts[0])"
   ]
  },
  {
   "cell_type": "markdown",
   "metadata": {
    "application/vnd.databricks.v1+cell": {
     "cellMetadata": {},
     "inputWidgets": {},
     "nuid": "302d489c-8d07-40f9-a5a0-326e134dda84",
     "showTitle": false,
     "title": ""
    }
   },
   "source": [
    "\n",
    "### Question 2\n",
    "It's your turn to get prompts from the samples."
   ]
  },
  {
   "cell_type": "code",
   "execution_count": 0,
   "metadata": {
    "application/vnd.databricks.v1+cell": {
     "cellMetadata": {},
     "inputWidgets": {},
     "nuid": "73738add-8f56-43f2-ac81-8a911e77ee1e",
     "showTitle": false,
     "title": ""
    }
   },
   "outputs": [],
   "source": [
    "# TODO\n",
    "\n",
    "group1_prompts = [p[\"prompts\"][0] for p in <FILL_IN>]\n",
    "group2_prompts = [p[\"prompts\"][0] for p in <FILL_IN>]"
   ]
  },
  {
   "cell_type": "code",
   "execution_count": 0,
   "metadata": {
    "application/vnd.databricks.v1+cell": {
     "cellMetadata": {},
     "inputWidgets": {},
     "nuid": "184f4edf-4173-40ca-b88d-3809d584a61f",
     "showTitle": false,
     "title": ""
    }
   },
   "outputs": [],
   "source": [
    "# Test your answer. DO NOT MODIFY THIS CELL.\n",
    "\n",
    "dbTestQuestion5_2(group1_prompts, group2_prompts)"
   ]
  },
  {
   "cell_type": "markdown",
   "metadata": {
    "application/vnd.databricks.v1+cell": {
     "cellMetadata": {},
     "inputWidgets": {},
     "nuid": "1f810d9f-6a80-4201-b035-95700e653580",
     "showTitle": false,
     "title": ""
    }
   },
   "source": [
    "Let's put GPT-2 to test. Does our model complete the sentences with equal regard for both the scientist and the dancer? "
   ]
  },
  {
   "cell_type": "code",
   "execution_count": 0,
   "metadata": {
    "application/vnd.databricks.v1+cell": {
     "cellMetadata": {},
     "inputWidgets": {},
     "nuid": "8b0784d8-7126-4a34-a1ea-a05cfd52b243",
     "showTitle": false,
     "title": ""
    }
   },
   "outputs": [],
   "source": [
    "from transformers import pipeline, AutoTokenizer\n",
    "\n",
    "text_generation = pipeline(\n",
    "    \"text-generation\", model=\"gpt2\", model_kwargs={\"cache_dir\": DA.paths.datasets}\n",
    ")  # Note: We specify cache_dir to use a pre-cached model.\n",
    "\n",
    "def complete_sentence(text_generation_pipeline: pipeline, prompts: list) -> list:\n",
    "    \"\"\"\n",
    "    Via a list of prompts a prompt list is appended to by the generated `text_generation_pipeline`.\n",
    "    \"\"\"\n",
    "    prompt_continuations = []\n",
    "    for prompt in prompts:\n",
    "        generation = text_generation_pipeline(\n",
    "            prompt, max_length=30, do_sample=False, pad_token_id=50256\n",
    "        )\n",
    "        continuation = generation[0][\"generated_text\"].replace(prompt, \"\")\n",
    "        prompt_continuations.append(continuation)\n",
    "    return prompt_continuations"
   ]
  },
  {
   "cell_type": "markdown",
   "metadata": {
    "application/vnd.databricks.v1+cell": {
     "cellMetadata": {},
     "inputWidgets": {},
     "nuid": "422f7d41-8a76-4643-b232-a244c62f68b9",
     "showTitle": false,
     "title": ""
    }
   },
   "source": [
    "We will now complete the sentences for the dancers."
   ]
  },
  {
   "cell_type": "code",
   "execution_count": 0,
   "metadata": {
    "application/vnd.databricks.v1+cell": {
     "cellMetadata": {},
     "inputWidgets": {},
     "nuid": "fad1cda8-1a09-4e2c-99f7-7192f17fb65d",
     "showTitle": false,
     "title": ""
    }
   },
   "outputs": [],
   "source": [
    "dance_continuation = complete_sentence(text_generation, dance_prompts)"
   ]
  },
  {
   "cell_type": "markdown",
   "metadata": {
    "application/vnd.databricks.v1+cell": {
     "cellMetadata": {},
     "inputWidgets": {},
     "nuid": "bc53c5e0-2866-487e-9ff8-98d7a94790f2",
     "showTitle": false,
     "title": ""
    }
   },
   "source": [
    "Then, let's generate text for scientists."
   ]
  },
  {
   "cell_type": "code",
   "execution_count": 0,
   "metadata": {
    "application/vnd.databricks.v1+cell": {
     "cellMetadata": {},
     "inputWidgets": {},
     "nuid": "c90fd711-4c8b-4926-a2bf-cc44fd946032",
     "showTitle": false,
     "title": ""
    }
   },
   "outputs": [],
   "source": [
    "science_continuation = complete_sentence(text_generation, science_prompts)"
   ]
  },
  {
   "cell_type": "markdown",
   "metadata": {
    "application/vnd.databricks.v1+cell": {
     "cellMetadata": {},
     "inputWidgets": {},
     "nuid": "1bb4a100-b903-4f3b-bd8f-a16910b5409e",
     "showTitle": false,
     "title": ""
    }
   },
   "source": [
    "### Question 3\n",
    "Your turn to ask the model to complete sentences for each group! "
   ]
  },
  {
   "cell_type": "code",
   "execution_count": 0,
   "metadata": {
    "application/vnd.databricks.v1+cell": {
     "cellMetadata": {},
     "inputWidgets": {},
     "nuid": "818724d1-1724-4df8-8ff0-a36047d5a222",
     "showTitle": false,
     "title": ""
    }
   },
   "outputs": [],
   "source": [
    "# TODO\n",
    "\n",
    "group1_continuation = complete_sentence(<FILL_IN>)\n",
    "group2_continuation = complete_sentence(<FILL_IN>)"
   ]
  },
  {
   "cell_type": "code",
   "execution_count": 0,
   "metadata": {
    "application/vnd.databricks.v1+cell": {
     "cellMetadata": {},
     "inputWidgets": {},
     "nuid": "855f339c-8e11-4658-a6a4-369015d7af38",
     "showTitle": false,
     "title": ""
    }
   },
   "outputs": [],
   "source": [
    "# Test your answer. DO NOT MODIFY THIS CELL.\n",
    "\n",
    "dbTestQuestion5_3(group1_continuation, group2_continuation)"
   ]
  },
  {
   "cell_type": "markdown",
   "metadata": {
    "application/vnd.databricks.v1+cell": {
     "cellMetadata": {},
     "inputWidgets": {},
     "nuid": "9593d389-d15d-4ab9-9d67-627d819a2299",
     "showTitle": false,
     "title": ""
    }
   },
   "source": [
    "Now that we have the prompts and the completion examples by GPT-2, we can evaluate the differences in regard towards both groups. "
   ]
  },
  {
   "cell_type": "code",
   "execution_count": 0,
   "metadata": {
    "application/vnd.databricks.v1+cell": {
     "cellMetadata": {},
     "inputWidgets": {},
     "nuid": "1007b615-37a1-4454-a8d5-ef717642e204",
     "showTitle": false,
     "title": ""
    }
   },
   "outputs": [],
   "source": [
    "import evaluate\n",
    "\n",
    "regard = evaluate.load(\"regard\", \"compare\", cache_dir=DA.paths.datasets)"
   ]
  },
  {
   "cell_type": "markdown",
   "metadata": {
    "application/vnd.databricks.v1+cell": {
     "cellMetadata": {},
     "inputWidgets": {},
     "nuid": "10ae4cf1-6e2f-4f1d-bb78-c3f4be742a9b",
     "showTitle": false,
     "title": ""
    }
   },
   "source": [
    "Wow, based on the `positive` regard field, we see that people in scientific occupations are regarded much more positively than those in dance (refer to the `positive` field) ! "
   ]
  },
  {
   "cell_type": "code",
   "execution_count": 0,
   "metadata": {
    "application/vnd.databricks.v1+cell": {
     "cellMetadata": {},
     "inputWidgets": {},
     "nuid": "07a58b96-0d35-44bc-b7ba-d302b854512f",
     "showTitle": false,
     "title": ""
    }
   },
   "outputs": [],
   "source": [
    "# this returns the regard scores of each string in the input list\n",
    "regard.compute(data=science_continuation, references=dance_continuation)"
   ]
  },
  {
   "cell_type": "markdown",
   "metadata": {
    "application/vnd.databricks.v1+cell": {
     "cellMetadata": {},
     "inputWidgets": {},
     "nuid": "9a23be21-1693-4b9b-89a8-ff773b61caa5",
     "showTitle": false,
     "title": ""
    }
   },
   "source": [
    "\n",
    "### Question 4\n",
    "Now, compute regard score for your groups!"
   ]
  },
  {
   "cell_type": "code",
   "execution_count": 0,
   "metadata": {
    "application/vnd.databricks.v1+cell": {
     "cellMetadata": {},
     "inputWidgets": {},
     "nuid": "62682a56-1d35-48ea-a14d-98b34f595012",
     "showTitle": false,
     "title": ""
    }
   },
   "outputs": [],
   "source": [
    "# TODO\n",
    "\n",
    "regard.compute(data=<FILL_IN>, references=<FILL_IN>)"
   ]
  },
  {
   "cell_type": "code",
   "execution_count": 0,
   "metadata": {
    "application/vnd.databricks.v1+cell": {
     "cellMetadata": {},
     "inputWidgets": {},
     "nuid": "5142b14b-33a6-4cb8-8096-969f72bdda78",
     "showTitle": false,
     "title": ""
    }
   },
   "outputs": [],
   "source": [
    "# Test your answer. DO NOT MODIFY THIS CELL.\n",
    "\n",
    "dbTestQuestion5_4(\n",
    "    regard.compute(data=group1_continuation, references=group2_continuation)\n",
    ")"
   ]
  },
  {
   "cell_type": "markdown",
   "metadata": {
    "application/vnd.databricks.v1+cell": {
     "cellMetadata": {},
     "inputWidgets": {},
     "nuid": "e9ea5cc0-31af-40ad-b664-d09ea4e3f707",
     "showTitle": false,
     "title": ""
    }
   },
   "source": [
    "## Bonus: NLP Test\n",
    "\n",
    "To switch gears a bit, we will now turn to looking at how we can test our NLP models and see how safe and effective they are using `nlptest`. The [library](https://nlptest.org/) is developed by SparkNLP and aims to provide user-friendly APIs to help evaluate models. This library was just released in April 2023. \n",
    "\n",
    "The test categories include:\n",
    "\n",
    "- Accuracy\n",
    "- Bias\n",
    "- Fairness\n",
    "- Representation\n",
    "- Robustness\n",
    "\n",
    "Currently, the library supports either `text-classification` or `ner` task.\n",
    "\n",
    "To start, we will use the `Harness` class to define what types of tests we would like to conduct on any given NLP model. You can read more about [Harness here](https://nlptest.org/docs/pages/docs/harness). The cell below provides a quick one-liner to show how you can evaluate the model, `dslim/bert-base-NER` from HuggingFace on a Named Entity Recognition (NER) task.\n",
    "\n",
    "You can choose to provide your own saved model or load existing models from `spacy` or `John Snow Labs` as well. "
   ]
  },
  {
   "cell_type": "code",
   "execution_count": 0,
   "metadata": {
    "application/vnd.databricks.v1+cell": {
     "cellMetadata": {},
     "inputWidgets": {},
     "nuid": "dce0cceb-fe1a-45b7-b419-814e022af63f",
     "showTitle": false,
     "title": ""
    }
   },
   "outputs": [],
   "source": [
    "from nlptest import Harness\n",
    "\n",
    "# Create a Harness object\n",
    "h = Harness(task=\"ner\", model=\"dslim/bert-base-NER\", hub=\"huggingface\")"
   ]
  },
  {
   "cell_type": "markdown",
   "metadata": {
    "application/vnd.databricks.v1+cell": {
     "cellMetadata": {},
     "inputWidgets": {},
     "nuid": "4dcb20af-a22f-4be2-866b-412f370ed797",
     "showTitle": false,
     "title": ""
    }
   },
   "source": [
    "We won't run the following cell since it could take up to 7 mins. This is a one-liner that runs all tests against the language model you supply. \n",
    "\n",
    "Notice that it consists of three steps: \n",
    "1. Generate test cases\n",
    "2. Run the test cases\n",
    "3. Generate a report of your test cases"
   ]
  },
  {
   "cell_type": "code",
   "execution_count": 0,
   "metadata": {
    "application/vnd.databricks.v1+cell": {
     "cellMetadata": {},
     "inputWidgets": {},
     "nuid": "b6d452f5-3a68-46b0-8c18-bad01360a1d3",
     "showTitle": false,
     "title": ""
    }
   },
   "outputs": [],
   "source": [
    "# h.generate().run().report()"
   ]
  },
  {
   "cell_type": "markdown",
   "metadata": {
    "application/vnd.databricks.v1+cell": {
     "cellMetadata": {},
     "inputWidgets": {},
     "nuid": "d1007a29-6bc8-4854-b149-9bdccb295ed3",
     "showTitle": false,
     "title": ""
    }
   },
   "source": [
    "If you do run `h.generate().run.report()` above, you can see that the report generates different test cases from different `test_type` and `category`. Specifically, it's unsurprising to see that the model fails the `lowercase` test for a NER use case. After all, if we lowercase all names, it would be hard to tell if the names are indeed referring to proper nouns, e.g. \"the los angeles time\" vs. \"the Los Angeles Times\".\n",
    "\n",
    "You can get a complete list of tests in their [documentation](https://nlptest.org/docs/pages/tests/test). For example, for `add_typo`, it checks whether the NLP model we use can handle input text with typos."
   ]
  },
  {
   "cell_type": "markdown",
   "metadata": {
    "application/vnd.databricks.v1+cell": {
     "cellMetadata": {},
     "inputWidgets": {},
     "nuid": "2a8a4a1a-e242-49b6-bd29-36e87e715b2c",
     "showTitle": false,
     "title": ""
    }
   },
   "source": [
    "## Submit your Results (edX Verified Only)\n",
    "\n",
    "To get credit for this lab, click the submit button in the top right to report the results. If you run into any issues, click `Run` -> `Clear state and run all`, and make sure all tests have passed before re-submitting. If you accidentally deleted any tests, take a look at the notebook's version history to recover them or reload the notebooks."
   ]
  },
  {
   "cell_type": "markdown",
   "metadata": {
    "application/vnd.databricks.v1+cell": {
     "cellMetadata": {},
     "inputWidgets": {},
     "nuid": "a269d2f6-86fa-4395-a5db-557cff0106ae",
     "showTitle": false,
     "title": ""
    }
   },
   "source": [
    "&copy; 2023 Databricks, Inc. All rights reserved.<br/>\n",
    "Apache, Apache Spark, Spark and the Spark logo are trademarks of the <a href=\"https://www.apache.org/\">Apache Software Foundation</a>.<br/>\n",
    "<br/>\n",
    "<a href=\"https://databricks.com/privacy-policy\">Privacy Policy</a> | <a href=\"https://databricks.com/terms-of-use\">Terms of Use</a> | <a href=\"https://help.databricks.com/\">Support</a>"
   ]
  }
 ],
 "metadata": {
  "application/vnd.databricks.v1+notebook": {
   "dashboards": [],
   "language": "python",
   "notebookMetadata": {
    "pythonIndentUnit": 2
   },
   "notebookName": "LLM 05L - LLMs and Society Lab",
   "widgets": {}
  }
 },
 "nbformat": 4,
 "nbformat_minor": 0
}
